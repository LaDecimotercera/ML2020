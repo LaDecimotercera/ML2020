{
 "cells": [
  {
   "cell_type": "code",
   "execution_count": 98,
   "metadata": {
    "scrolled": true
   },
   "outputs": [],
   "source": [
    "#coding:utf-8\n",
    "import numpy as np \n",
    "import pandas as pd\n",
    "import matplotlib.pyplot as plt\n",
    "\n",
    "dataset = pd.read_csv('./data.csv')\n",
    "# P-R Graph\n",
    "dataset.sort_values(\"output\",ascending=False,inplace=True)\n",
    "output = dataset[\"output\"].values.tolist()\n",
    "#recall = []\n",
    "#precision = []\n",
    "TP_Rate = []\n",
    "FP_Rate = []"
   ]
  },
  {
   "cell_type": "code",
   "execution_count": 99,
   "metadata": {},
   "outputs": [],
   "source": [
    "def gen_params(threshold):\n",
    "    TN = dataset[(dataset[\"output\"]<threshold) & (dataset[\"label\"]==0)][\"Index\"].count()\n",
    "    FP =dataset[(dataset[\"output\"]>=threshold) & (dataset[\"label\"]==0)][\"Index\"].count()\n",
    "    FN =dataset[(dataset[\"output\"]<threshold) & (dataset[\"label\"]==1)][\"Index\"].count()\n",
    "    TP = dataset[(dataset[\"output\"]>=threshold) & (dataset[\"label\"]==1)][\"Index\"].count()\n",
    "    #P = TP / (TP + FP)\n",
    "    #R = TP / (TP + FN)\n",
    "    TPR = TP / (TP + FN)\n",
    "    FPR = FP / (TN + FP)\n",
    "    TP_Rate.append(TPR)\n",
    "    FP_Rate.append(FPR)"
   ]
  },
  {
   "cell_type": "code",
   "execution_count": 100,
   "metadata": {},
   "outputs": [
    {
     "data": {
      "image/png": "[encoded data removed]",
      "text/plain": [
       "<Figure size 432x288 with 1 Axes>"
      ]
     },
     "metadata": {
      "needs_background": "light"
     },
     "output_type": "display_data"
    }
   ],
   "source": [
    "for th in output:\n",
    "    gen_params(th)\n",
    "plt.figure()\n",
    "plt.xlabel(\"FPR\")\n",
    "plt.ylabel(\"TPR\")\n",
    "plt.plot(FP_Rate,TP_Rate)\n",
    "plt.title(\"ROC Curve\")\n",
    "#plt.legend()\n",
    "plt.show()"
   ]
  },
  {
   "cell_type": "code",
   "execution_count": 114,
   "metadata": {},
   "outputs": [
    {
     "name": "stdout",
     "output_type": "stream",
     "text": [
      "0.8737199180747567\n"
     ]
    }
   ],
   "source": [
    "AUC = 0\n",
    "for idx in range(len(output)-1):\n",
    "    AUC += (FP_Rate[idx+1]-FP_Rate[idx])*(TP_Rate[idx+1]+TP_Rate[idx])/2\n",
    "print(AUC)    "
   ]
  }
 ],
 "metadata": {
  "kernelspec": {
   "display_name": "Python 3",
   "language": "python",
   "name": "python3"
  },
  "language_info": {
   "codemirror_mode": {
    "name": "ipython",
    "version": 3
   },
   "file_extension": ".py",
   "mimetype": "text/x-python",
   "name": "python",
   "nbconvert_exporter": "python",
   "pygments_lexer": "ipython3",
   "version": "3.7.3"
  },
  "latex_envs": {
   "LaTeX_envs_menu_present": true,
   "autoclose": false,
   "autocomplete": true,
   "bibliofile": "biblio.bib",
   "cite_by": "apalike",
   "current_citInitial": 1,
   "eqLabelWithNumbers": true,
   "eqNumInitial": 1,
   "hotkeys": {
    "equation": "Ctrl-E",
    "itemize": "Ctrl-I"
   },
   "labels_anchors": false,
   "latex_user_defs": false,
   "report_style_numbering": false,
   "user_envs_cfg": false
  }
 },
 "nbformat": 4,
 "nbformat_minor": 2
}
