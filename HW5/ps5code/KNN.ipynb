{
 "cells": [
  {
   "cell_type": "code",
   "execution_count": 8,
   "metadata": {},
   "outputs": [
    {
     "name": "stdout",
     "output_type": "stream",
     "text": [
      "0.7934782608695652\n"
     ]
    }
   ],
   "source": [
    "from __future__ import print_function\n",
    "from sklearn.metrics import accuracy_score\n",
    "import numpy as np\n",
    "import pandas as pd\n",
    "\n",
    "\n",
    "class KNN():\n",
    "   \n",
    "    #k: int,最近邻个数.\n",
    "    def __init__(self, k):\n",
    "        self.k = k\n",
    "        \n",
    "    def distance(self, one_sample, X_train):\n",
    "        dist = [np.linalg.norm(one_sample - x) for x in X_train]\n",
    "        return dist\n",
    "    \n",
    "    # 此处需要填写，获取k个近邻的类别标签\n",
    "    def get_k_neighbor_labels(self, distances, y_train, k):\n",
    "        idx = np.argsort(distances)[:k]\n",
    "        k_nearest_neighbors = np.array([y_train[i] for i in idx])\n",
    "        return k_nearest_neighbors\n",
    "    \n",
    "    # 此处需要填写，标签统计，票数最多的标签即该测试样本的预测标签\n",
    "    def vote(self, one_sample, X_train, y_train, k):\n",
    "        dist = self.distance(one_sample, X_train)\n",
    "        neighbor_labels = self.get_k_neighbor_labels(dist, y_train, k)\n",
    "        counts = np.bincount(neighbor_labels.astype('int'))\n",
    "        return counts.argmax()\n",
    "    \n",
    "    # 此处需要填写，对测试集进行预测\n",
    "    def predict(self, X_test, X_train, y_train):\n",
    "        y_preds = np.apply_along_axis(self.vote, 1, X_test, X_train, y_train, self.k)\n",
    "        return y_preds\n",
    "  \n",
    "\n",
    "def main():\n",
    "    clf = KNN(k=5)\n",
    "    train_data = np.genfromtxt('./data/train_data.csv', delimiter=' ')\n",
    "    train_labels = np.genfromtxt('./data/train_labels.csv', delimiter=' ')\n",
    "    test_data = np.genfromtxt('./data/train_data.csv', delimiter=' ')\n",
    "   \n",
    "    #将预测值存入y_pred(list)内    \n",
    "    y_pred = clf.predict(test_data, train_data, train_labels)\n",
    "    #np.savetxt(\"test_ypred.csv\", y_pred, fmt=\"%d\", delimiter=' ')\n",
    "    print(accuracy_score(train_labels, y_pred))\n",
    "\n",
    "if __name__ == \"__main__\":\n",
    "    main()"
   ]
  }
 ],
 "metadata": {
  "kernelspec": {
   "display_name": "Python 3",
   "language": "python",
   "name": "python3"
  },
  "language_info": {
   "codemirror_mode": {
    "name": "ipython",
    "version": 3
   },
   "file_extension": ".py",
   "mimetype": "text/x-python",
   "name": "python",
   "nbconvert_exporter": "python",
   "pygments_lexer": "ipython3",
   "version": "3.8.3"
  }
 },
 "nbformat": 4,
 "nbformat_minor": 2
}
