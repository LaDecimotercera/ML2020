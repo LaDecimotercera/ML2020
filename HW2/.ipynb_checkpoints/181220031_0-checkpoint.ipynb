{
 "cells": [
  {
   "cell_type": "code",
   "execution_count": 13,
   "metadata": {},
   "outputs": [
    {
     "name": "stdout",
     "output_type": "stream",
     "text": [
      "Accuracy: 0.740000\n",
      "Precision: 0.666667\n",
      "Recall: 1.000000\n"
     ]
    }
   ],
   "source": [
    "import numpy as np\n",
    "import pandas as pd\n",
    "\n",
    "# Training\n",
    "X_train = pd.read_csv('./train_feature.csv')\n",
    "X_train['add_column'] = 1 \n",
    "Y_train = pd.read_csv('./train_target.csv')\n",
    "inv = np.linalg.pinv(np.dot(X_train.T, X_train))\n",
    "beta = np.dot(inv,X_train.T.dot(Y_train))\n",
    "\n",
    "# Validation \n",
    "def sigmoid(x):\n",
    "    return 1 / (1 + np.exp(-x))\n",
    "\n",
    "def predict(X,beta,theta = 0.5):\n",
    "    Y_pred = []\n",
    "    for i in range(len(X)):\n",
    "        pred = X.iloc[i].values.T.dot(beta)\n",
    "        label = 1 if (sigmoid(pred) > theta) else 0\n",
    "        Y_pred.append(label)\n",
    "    return Y_pred\n",
    "\n",
    "# Performance Evaluation\n",
    "def perf_eval(valid, pred):\n",
    "    TN = TP = FP = FN = 0\n",
    "    for i in range(len(valid)):\n",
    "        if valid[i] == pred[i] == 0: TN += 1\n",
    "        elif valid[i] == pred[i] == 1: TP += 1    \n",
    "        elif valid[i] == 0 and pred[i] == 1: FP += 1\n",
    "        elif valid[i] == 1 and pred[i] == 0: FN += 1\n",
    "    ACC = (TP+TN)/len(valid)\n",
    "    P = TP/(TP+FP)\n",
    "    R = TP/(TP+FN)\n",
    "    print(\"Accuracy: %f\\nPrecision: %f\\nRecall: %f\" %(ACC,P,R))\n",
    "    \n",
    "X_valid = pd.read_csv('./val_feature.csv')\n",
    "X_valid['add_column'] = 1 \n",
    "Y_valid = pd.read_csv('./val_target.csv')['0'].tolist()\n",
    "Y_predict = predict(X_valid,beta,0.5)    \n",
    "perf_eval(Y_valid, Y_predict)"
   ]
  },
  {
   "cell_type": "code",
   "execution_count": 14,
   "metadata": {},
   "outputs": [],
   "source": [
    "X_test = pd.read_csv('./test_feature.csv')\n",
    "X_test['add_column'] = 1\n",
    "pred = predict(X_test,beta,0.55)\n",
    "df = pd.DataFrame(pred)\n",
    "df.to_csv('./181220031_0.csv',header=False,index=False)"
   ]
  }
 ],
 "metadata": {
  "kernelspec": {
   "display_name": "Python 3",
   "language": "python",
   "name": "python3"
  },
  "language_info": {
   "codemirror_mode": {
    "name": "ipython",
    "version": 3
   },
   "file_extension": ".py",
   "mimetype": "text/x-python",
   "name": "python",
   "nbconvert_exporter": "python",
   "pygments_lexer": "ipython3",
   "version": "3.7.3"
  },
  "latex_envs": {
   "LaTeX_envs_menu_present": true,
   "autoclose": false,
   "autocomplete": true,
   "bibliofile": "biblio.bib",
   "cite_by": "apalike",
   "current_citInitial": 1,
   "eqLabelWithNumbers": true,
   "eqNumInitial": 1,
   "hotkeys": {
    "equation": "Ctrl-E",
    "itemize": "Ctrl-I"
   },
   "labels_anchors": false,
   "latex_user_defs": false,
   "report_style_numbering": false,
   "user_envs_cfg": false
  }
 },
 "nbformat": 4,
 "nbformat_minor": 2
}
